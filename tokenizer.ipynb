{
 "cells": [
  {
   "cell_type": "code",
   "execution_count": 1,
   "id": "bfa1396d-1c7b-48b2-b92e-48adac659908",
   "metadata": {},
   "outputs": [],
   "source": [
    "#insure that the following are installed on the environment\n",
    "#pip install transformers torch\n",
    "#pip install ipywidgets"
   ]
  },
  {
   "cell_type": "code",
   "execution_count": 2,
   "id": "d7333131-6057-4953-87d0-be46b3f316e4",
   "metadata": {},
   "outputs": [],
   "source": [
    "from transformers import AutoTokenizer\n",
    "# Load tokenizer from a pretrained model\n",
    "tokenizer = AutoTokenizer.from_pretrained(\"bert-base-uncased\")# Load tokenizer from a pretrained model\n",
    "tokenizer = AutoTokenizer.from_pretrained(\"bert-base-uncased\")# Sample text"
   ]
  },
  {
   "cell_type": "code",
   "execution_count": 3,
   "id": "ed700f37-ee87-4761-add2-94a1d5299f76",
   "metadata": {},
   "outputs": [
    {
     "name": "stdout",
     "output_type": "stream",
     "text": [
      "Tokens: ['transformers', 'are', 'amazing', 'for', 'nl', '##p', 'tasks', '!']\n",
      "Input IDs: tensor([[  101, 19081,  2024,  6429,  2005, 17953,  2361,  8518,   999,   102]])\n"
     ]
    }
   ],
   "source": [
    "\n",
    "text = \"Transformers are amazing for NLP tasks!\"\n",
    "\n",
    "# Tokenize the text\n",
    "tokens = tokenizer.tokenize(text)\n",
    "print(\"Tokens:\", tokens)\n",
    "\n",
    "# Convert tokens to input IDs\n",
    "input_ids = tokenizer(text, return_tensors=\"pt\")\n",
    "print(\"Input IDs:\", input_ids[\"input_ids\"])\n",
    "\n"
   ]
  },
  {
   "cell_type": "code",
   "execution_count": null,
   "id": "9a6e447e-2def-471d-bf1b-f29964311b37",
   "metadata": {},
   "outputs": [],
   "source": []
  }
 ],
 "metadata": {
  "kernelspec": {
   "display_name": "Python 3 (ipykernel)",
   "language": "python",
   "name": "python3"
  },
  "language_info": {
   "codemirror_mode": {
    "name": "ipython",
    "version": 3
   },
   "file_extension": ".py",
   "mimetype": "text/x-python",
   "name": "python",
   "nbconvert_exporter": "python",
   "pygments_lexer": "ipython3",
   "version": "3.10.18"
  }
 },
 "nbformat": 4,
 "nbformat_minor": 5
}
